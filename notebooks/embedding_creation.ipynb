{
 "cells": [
  {
   "cell_type": "markdown",
   "metadata": {},
   "source": [
    "### Creation of the embedding database"
   ]
  },
  {
   "cell_type": "code",
   "execution_count": null,
   "metadata": {},
   "outputs": [],
   "source": [
    "import os"
   ]
  },
  {
   "cell_type": "code",
   "execution_count": null,
   "metadata": {},
   "outputs": [],
   "source": [
    "path_data_preprocess = \"/home/loilibre_data/data_preprocess/\"\n",
    "\n",
    "# we list all the pickle file in the folder\n",
    "list_pickle = os.listdir(path_data_preprocess)\n",
    "\n",
    "# now we only want to take the pickle file that have \"short\" in their name\n",
    "list_pickle = [x for x in list_pickle if \"short\" in x]\n",
    "\n",
    "list_pickle = [x for x in list_pickle if \"Codepenal\" in x]\n",
    "\n",
    "# now (for testing) we only take the Codecivil pickle file\n",
    "# list_pickle = [x for x in list_pickle if \"Codecivil\" in x]\n",
    "\n",
    "# now we read all the pickel file and put them in a list\n",
    "text_list = []\n",
    "\n",
    "for pickle_file in list_pickle:\n",
    "    \n",
    "    with open(path_data_preprocess + pickle_file, 'rb') as f:\n",
    "            \n",
    "        tmp_list = pickle.load(f)\n",
    "\n",
    "        # we add the type of code for each article \n",
    "        # (we remove the .pickle at the end)\n",
    "        # \n",
    "        tmp_list = [pickle_file[:-7] + \" \" + x for x in tmp_list]\n",
    "\n",
    "        text_list += tmp_list"
   ]
  },
  {
   "cell_type": "code",
   "execution_count": null,
   "metadata": {},
   "outputs": [],
   "source": [
    "# now for each element we should compute the embedding value\n"
   ]
  }
 ],
 "metadata": {
  "language_info": {
   "name": "python"
  },
  "orig_nbformat": 4
 },
 "nbformat": 4,
 "nbformat_minor": 2
}
